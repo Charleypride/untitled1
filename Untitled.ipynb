{
 "cells": [
  {
   "cell_type": "code",
   "execution_count": 15,
   "metadata": {},
   "outputs": [
    {
     "name": "stdout",
     "output_type": "stream",
     "text": [
      "查怀志,你好吗？\n",
      "查怀志,你看见我家的小狗了吗？\n",
      "查怀志,你好吗？\n",
      "查怀志,你看见我家的小狗了吗？\n",
      "None\n"
     ]
    }
   ],
   "source": [
    "def hello (person):\n",
    "    print(\"{},你好吗？\".format(person))\n",
    "    print(\"{},你看见我家的小狗了吗？\".format(person))\n",
    "d= \"查怀志\"\n",
    "hello(d)\n",
    "pp =hello(d) \n",
    "print(pp)"
   ]
  },
  {
   "cell_type": "code",
   "execution_count": 17,
   "metadata": {},
   "outputs": [
    {
     "name": "stdout",
     "output_type": "stream",
     "text": [
      "查怀志,你好吗？\n",
      "查怀志,你看见我家的小狗了吗？\n",
      "查怀志,你好吗？\n",
      "查怀志,你看见我家的小狗了吗？\n",
      "None\n"
     ]
    }
   ],
   "source": [
    "def hello (person):\n",
    "    print(\"{},你好吗？\".format(person))\n",
    "    print(\"{},你看见我家的小狗了吗？\".format(person))\n",
    "d= \"查怀志\"\n",
    "hello(d)\n",
    "pp =hello(d)\n",
    "print(pp)"
   ]
  },
  {
   "cell_type": "code",
   "execution_count": 19,
   "metadata": {},
   "outputs": [
    {
     "name": "stdout",
     "output_type": "stream",
     "text": [
      "Help on built-in function print in module builtins:\n",
      "\n",
      "print(...)\n",
      "    print(value, ..., sep=' ', end='\\n', file=sys.stdout, flush=False)\n",
      "    \n",
      "    Prints the values to a stream, or to sys.stdout by default.\n",
      "    Optional keyword arguments:\n",
      "    file:  a file-like object (stream); defaults to the current sys.stdout.\n",
      "    sep:   string inserted between values, default a space.\n",
      "    end:   string appended after the last value, default a newline.\n",
      "    flush: whether to forcibly flush the stream.\n",
      "\n"
     ]
    }
   ],
   "source": [
    "help(print)"
   ]
  },
  {
   "cell_type": "code",
   "execution_count": 21,
   "metadata": {},
   "outputs": [
    {
     "name": "stdout",
     "output_type": "stream",
     "text": [
      "Help on built-in function format in module builtins:\n",
      "\n",
      "format(value, format_spec='', /)\n",
      "    Return value.__format__(format_spec)\n",
      "    \n",
      "    format_spec defaults to the empty string.\n",
      "    See the Format Specification Mini-Language section of help('FORMATTING') for\n",
      "    details.\n",
      "\n"
     ]
    }
   ],
   "source": [
    "help(format)"
   ]
  },
  {
   "cell_type": "code",
   "execution_count": 42,
   "metadata": {},
   "outputs": [
    {
     "name": "stdout",
     "output_type": "stream",
     "text": [
      "1 \n",
      "2 4 \n",
      "3 6 9 \n",
      "4 8 12 16 \n",
      "5 10 15 20 25 \n",
      "6 12 18 24 30 36 \n",
      "7 14 21 28 35 42 49 \n",
      "8 16 24 32 40 48 56 64 \n",
      "9 18 27 36 45 54 63 72 81 \n"
     ]
    }
   ],
   "source": [
    "def printLine(line_num):\n",
    "    for i in range(1,line_num + 1):\n",
    "        print(line_num * i ,end =\" \")\n",
    "    print()\n",
    "def jiujiu():\n",
    "    for o in range(1,10):\n",
    "        printLine(o)\n",
    "    return None\n",
    "jiujiu()"
   ]
  },
  {
   "cell_type": "code",
   "execution_count": 44,
   "metadata": {},
   "outputs": [
    {
     "name": "stdout",
     "output_type": "stream",
     "text": [
      "7\n"
     ]
    }
   ],
   "source": [
    "\tdef normal_para(one,two,three):\n",
    "\t\tprint(one + two * three)\n",
    "\t\treturn None\n",
    "\tnormal_para(1,2,3)\n"
   ]
  },
  {
   "cell_type": "code",
   "execution_count": 47,
   "metadata": {},
   "outputs": [
    {
     "name": "stdout",
     "output_type": "stream",
     "text": [
      "Let's Go\n"
     ]
    }
   ],
   "source": [
    "s = 'Let\\'s Go'\n",
    "print(s)"
   ]
  },
  {
   "cell_type": "code",
   "execution_count": 52,
   "metadata": {},
   "outputs": [
    {
     "name": "stdout",
     "output_type": "stream",
     "text": [
      "I love 刘晓丽\n",
      "I love 方冰清\n",
      "查怀志今年已经19岁了，但是他还是很帅气\n"
     ]
    }
   ],
   "source": [
    "s = 'I love %s'\n",
    "print(s%'刘晓丽')\n",
    "print(s%'方冰清')\n",
    "s = '查怀志今年已经%d岁了，但是他还是很帅气'\n",
    "print(s%19)"
   ]
  },
  {
   "cell_type": "code",
   "execution_count": 55,
   "metadata": {},
   "outputs": [
    {
     "name": "stdout",
     "output_type": "stream",
     "text": [
      "I am 96.75KG weight, 1.75m Heigh\n"
     ]
    }
   ],
   "source": [
    "\ts = 'I am %.2fKG weight, %.2fm Heigh'\n",
    "\tprint(s%(96.75,1.75))\n"
   ]
  }
 ],
 "metadata": {
  "kernelspec": {
   "display_name": "Python 3",
   "language": "python",
   "name": "python3"
  },
  "language_info": {
   "codemirror_mode": {
    "name": "ipython",
    "version": 3
   },
   "file_extension": ".py",
   "mimetype": "text/x-python",
   "name": "python",
   "nbconvert_exporter": "python",
   "pygments_lexer": "ipython3",
   "version": "3.6.5"
  }
 },
 "nbformat": 4,
 "nbformat_minor": 2
}
